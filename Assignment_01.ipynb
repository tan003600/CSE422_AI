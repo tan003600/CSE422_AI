{
  "nbformat": 4,
  "nbformat_minor": 0,
  "metadata": {
    "colab": {
      "provenance": [],
      "authorship_tag": "ABX9TyN03N8yEobwR1vkzLdRLA1T",
      "include_colab_link": true
    },
    "kernelspec": {
      "name": "python3",
      "display_name": "Python 3"
    },
    "language_info": {
      "name": "python"
    }
  },
  "cells": [
    {
      "cell_type": "markdown",
      "metadata": {
        "id": "view-in-github",
        "colab_type": "text"
      },
      "source": [
        "<a href=\"https://colab.research.google.com/github/tan003600/CSE422_AI/blob/main/22299433_Md_Tanvir_Siam_422A01.ipynb\" target=\"_parent\"><img src=\"https://colab.research.google.com/assets/colab-badge.svg\" alt=\"Open In Colab\"/></a>"
      ]
    },
    {
      "cell_type": "code",
      "execution_count": null,
      "metadata": {
        "colab": {
          "base_uri": "https://localhost:8080/"
        },
        "id": "VQP9cakvFwrp",
        "outputId": "d0a92d6d-c5f2-4e86-f8d0-306991b5d7cc"
      },
      "outputs": [
        {
          "output_type": "stream",
          "name": "stdout",
          "text": [
            "Enter the name of place from where you want to start: Arad\n",
            "Enter the name of place where you want to end your travel: Bucharest\n",
            "Path: Bucharest -> Pitesti -> RimnicuVilcea -> Sibiu -> Arad\n",
            "Total distance: 418 km\n"
          ]
        }
      ],
      "source": [
        "mains=[]\n",
        "h=[]\n",
        "\n",
        "with open('/content/sample_data/Input file.txt','r') as inp:\n",
        "    for i in inp:\n",
        "        lobby=i.strip().split()\n",
        "\n",
        "        if len(lobby)<2:\n",
        "            continue\n",
        "        city,heu=lobby[0],int(lobby[1])\n",
        "        h.append([city,heu])\n",
        "\n",
        "        adj=[(lobby[i],int(lobby[i+1])) for i in range(2,len(lobby),2)]\n",
        "        if adj:\n",
        "            mains.append([city,adj])\n",
        "        else:\n",
        "            mains.append([city,None])\n",
        "\n",
        "def branch(parent):\n",
        "    for i in mains:\n",
        "        if i[0]==parent:\n",
        "            return i[1]\n",
        "    return None\n",
        "\n",
        "def A_star(start,end):\n",
        "    mark=[(start,0)]\n",
        "    visited=[]\n",
        "    shortest_d={start:0}\n",
        "    parents_list={start:start}\n",
        "\n",
        "    while mark:\n",
        "        curr=mark[0][0]\n",
        "\n",
        "        for node in mark:\n",
        "            total_cost_node = shortest_d[node[0]]+next((h for city,h in h if city==node[0]),float('inf'))\n",
        "            total_cost_curr = shortest_d[curr] + next((h for city,h in h if city==curr),float('inf'))\n",
        "\n",
        "            if total_cost_node<total_cost_curr:\n",
        "                curr = node[0]\n",
        "\n",
        "        mark=[x for x in mark if x[0] != curr]\n",
        "\n",
        "        if curr==end:\n",
        "            path=[]\n",
        "            while parents_list[curr]!=curr:\n",
        "                path.append(curr)\n",
        "                curr=parents_list[curr]\n",
        "            path.append(start)\n",
        "\n",
        "            result=\"\"\n",
        "            for i in range(len(path) - 1):\n",
        "                result+=path[i] + \" -> \"\n",
        "            result+=path[-1]\n",
        "\n",
        "            print(\"Path:\",result)\n",
        "            print(f\"Total distance: {shortest_d[end]} km\")\n",
        "            return path\n",
        "\n",
        "        neighbors=branch(curr)\n",
        "        if neighbors:\n",
        "            for neighbor,cost in neighbors:\n",
        "                if neighbor not in visited:\n",
        "                    new_distance=shortest_d[curr]+cost\n",
        "                    if neighbor not in shortest_d or new_distance<shortest_d[neighbor]:\n",
        "                        shortest_d[neighbor]=new_distance\n",
        "                        parents_list[neighbor]=curr\n",
        "                        mark.append((neighbor,new_distance))\n",
        "\n",
        "        visited.append(curr)\n",
        "\n",
        "    print('No Path Found!')\n",
        "\n",
        "startnode=input(\"Enter the name of place from where you want to start: \")\n",
        "destination=input(\"Enter the name of place where you want to end your travel: \")\n",
        "\n",
        "A_star(startnode,destination)\n",
        "\n",
        "inp.close()"
      ]
    }
  ]
}
