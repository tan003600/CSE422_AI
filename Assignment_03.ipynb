{
  "nbformat": 4,
  "nbformat_minor": 0,
  "metadata": {
    "colab": {
      "provenance": [],
      "authorship_tag": "ABX9TyM8pDfXkr03rTp/tajM7NtQ",
      "include_colab_link": true
    },
    "kernelspec": {
      "name": "python3",
      "display_name": "Python 3"
    },
    "language_info": {
      "name": "python"
    }
  },
  "cells": [
    {
      "cell_type": "markdown",
      "metadata": {
        "id": "view-in-github",
        "colab_type": "text"
      },
      "source": [
        "<a href=\"https://colab.research.google.com/github/tan003600/CSE422_AI/blob/main/Assignment_03.ipynb\" target=\"_parent\"><img src=\"https://colab.research.google.com/assets/colab-badge.svg\" alt=\"Open In Colab\"/></a>"
      ]
    },
    {
      "cell_type": "markdown",
      "source": [
        "Problem01"
      ],
      "metadata": {
        "id": "lCUOoLSlKr4D"
      }
    },
    {
      "cell_type": "code",
      "execution_count": null,
      "metadata": {
        "id": "TuiLv-N41Hrn",
        "colab": {
          "base_uri": "https://localhost:8080/"
        },
        "outputId": "8e20c906-becb-434b-aed1-4b9654f8077d"
      },
      "outputs": [
        {
          "output_type": "stream",
          "name": "stdout",
          "text": [
            "Enter starting player for game 1 (0 for Carlsen,1 for Caruana): 0\n",
            "Enter base strength for Carlsen: 9\n",
            "Enter base strength for Caruana: 8\n",
            "Game 1 Winner: Carlsen (Max) (Utility value: 0.85)\n",
            "Game 2 Winner: Caruana (Min) (Utility value: -0.15)\n",
            "Game 3 Winner: Carlsen (Max) (Utility value: 0.85)\n",
            "Game 4 Winner: Carlsen (Min) (Utility value: 0.25)\n",
            "Overall Winner: Magnus Carlsen\n",
            "\n",
            "Overall Results:\n",
            "Magnus Carlsen Wins:3\n",
            "Fabiano Caruana Wins 1\n",
            "Draws: 0\n"
          ]
        }
      ],
      "source": [
        "import math\n",
        "import random\n",
        "\n",
        "def strength(x):\n",
        "    return math.log2(x+1)+(x/10)\n",
        "\n",
        "def utility_function(maxV,minV):\n",
        "    i=random.choice([0,1])\n",
        "    return strength(maxV)-strength(minV)+((-1)**i)*(random.randint(1,10)/10)\n",
        "\n",
        "def minimax(depth,is_max,alpha,beta,maxV,minV):\n",
        "    if depth == 0:\n",
        "        return utility_function(maxV, minV)\n",
        "\n",
        "    if is_max:\n",
        "        best=-math.inf\n",
        "        for i in range(2):\n",
        "            val=minimax(depth-1,False,alpha,beta,maxV,minV)\n",
        "            best=max(best,val)\n",
        "            alpha=max(alpha,best)\n",
        "            if beta<=alpha:\n",
        "                break\n",
        "        return best\n",
        "    else:\n",
        "        best=math.inf\n",
        "        for i in range(2):\n",
        "            val=minimax(depth-1,True,alpha,beta,maxV,minV)\n",
        "            best=min(best,val)\n",
        "            beta=min(beta,best)\n",
        "            if beta<=alpha:\n",
        "                break\n",
        "        return best\n",
        "\n",
        "def games(start_player,carlsen_strn,caruana_strn):\n",
        "    results = {\"Carlsen\":0,\"Caruana\":0,\"Draws\":0}\n",
        "    players = [\"Carlsen\",\"Caruana\"]\n",
        "\n",
        "    for i in range(4):\n",
        "        if (start_player+i)%2==0:\n",
        "            is_carlsen_max=True\n",
        "            maxV=carlsen_strn\n",
        "            minV=caruana_strn\n",
        "        else:\n",
        "            is_carlsen_max=False\n",
        "            maxV=caruana_strn\n",
        "            minV=carlsen_strn\n",
        "\n",
        "        utility=minimax(5,True,-math.inf,-math.inf,maxV,minV)\n",
        "        if utility!=0:\n",
        "            if utility<0:\n",
        "                winner=players[1]\n",
        "            else:\n",
        "                winner=players[0]\n",
        "        else:\n",
        "            winner=\"Draws\"\n",
        "\n",
        "        results[winner]+=1\n",
        "\n",
        "        role = \"\"\n",
        "        if is_carlsen_max:\n",
        "            role = \"Max\"\n",
        "        else:\n",
        "            role = \"Min\"\n",
        "        print(f\"Game {i+1} Winner: {winner} ({role}) (Utility value: {utility:.2f})\")\n",
        "\n",
        "    if results['Carlsen'] > results['Caruana']:\n",
        "        print(\"Overall Winner: Magnus Carlsen\")\n",
        "    elif results['Carlsen'] < results['Caruana']:\n",
        "        print(\"Overall Winner: Fabiano Caruana\")\n",
        "    else:\n",
        "        print(\"Overall Winner: Draw\")\n",
        "\n",
        "    print(\"\\nOverall Results:\")\n",
        "    print(f\"Magnus Carlsen Wins:{results['Carlsen']}\")\n",
        "    print(f\"Fabiano Caruana Wins {results['Caruana']}\")\n",
        "    print(f\"Draws: {results['Draws']}\")\n",
        "\n",
        "start_player=int(input(\"Enter starting player for game 1 (0 for Carlsen,1 for Caruana): \"))\n",
        "carlsen_strength=int(input(\"Enter base strength for Carlsen: \"))\n",
        "caruana_strength=int(input(\"Enter base strength for Caruana: \"))\n",
        "\n",
        "games(start_player,carlsen_strength,caruana_strength)"
      ]
    },
    {
      "cell_type": "markdown",
      "source": [
        "Problem02"
      ],
      "metadata": {
        "id": "RqjpTXbRKxeN"
      }
    },
    {
      "cell_type": "code",
      "source": [
        "import math\n",
        "import random\n",
        "\n",
        "def minimax(depth,is_max,alpha,beta,maxV,minV,mind=False):\n",
        "    if depth == 5:\n",
        "        return utility(maxV,minV)\n",
        "\n",
        "    if is_max:\n",
        "        best=-math.inf\n",
        "        for i in range(2):\n",
        "            val=minimax(depth+1,False,alpha,beta,maxV,minV,mind)\n",
        "            best=max(best,val)\n",
        "            alpha=max(alpha, best)\n",
        "            if alpha>=beta:\n",
        "                break\n",
        "        return best\n",
        "    else:\n",
        "        if mind:\n",
        "            return minimax(depth+1,True,alpha,beta,maxV,minV,mind)\n",
        "\n",
        "        best=math.inf\n",
        "        for i in range(2):\n",
        "            val=minimax(depth+1,True,alpha,beta,maxV,minV,mind)\n",
        "            best=min(best,val)\n",
        "            beta=min(beta,best)\n",
        "            if alpha>=beta:\n",
        "                break\n",
        "        return best\n",
        "def chess_magic():\n",
        "    while True:\n",
        "      first_player=int(input(\"Enter first player (0 for light, 1 for L): \"))\n",
        "\n",
        "      if first_player!=0 and first_player!=1:\n",
        "        print(\"Invalid player. Please enter 0 or 1.\")\n",
        "      else:\n",
        "        break\n",
        "\n",
        "    cost=float(input(\"Enter the cost of using Mind Control: \"))\n",
        "    light_strength=float(input(\"Enter base strength for Light: \"))\n",
        "    l_strength=float(input(\"Enter base strength for L: \"))\n",
        "\n",
        "    if first_player==0:\n",
        "        maxV,minV=light_strength,l_strength\n",
        "    else:\n",
        "        maxV,minV=l_strength,light_strength\n",
        "\n",
        "    minimax_value_without_mc=minimax(0,True,-math.inf,math.inf,maxV,minV,mind=False)\n",
        "    minimax_value_with_mc=minimax(0, True,-math.inf,math.inf,maxV,minV,mind=True)\n",
        "    minimax_value_with_cost=inimax_value_with_mc-cost\n",
        "\n",
        "    print(f\"Minimax value without Mind Control: {minimax_value_without_mc:.2f}\")\n",
        "    print(f\"Minimax value with Mind Control: {minimax_value_with_mc:.2f}\")\n",
        "    print(f\"Minimax value with Mind Control after incurring the cost: {minimax_value_with_cost:.2f}\")\n",
        "\n",
        "    players=[\"Light\",\"L\"]\n",
        "\n",
        "    if minimax_value_without_mc>minimax_value_with_cost:\n",
        "      if minimax_value_with_cost<0:\n",
        "        print(f\"{players[first_player]} should NOT use Mind Control as it backfires\")\n",
        "      else:\n",
        "        print(f\"{players[first_player]} should NOT use Mind Control as the position is already winning.\")\n",
        "\n",
        "    elif minimax_value_with_cost>minimax_value_without_mc:\n",
        "      print(f\"{players[first_player]} should use Mind Control.\")\n",
        "\n",
        "    else:\n",
        "      print(f\"{players[first_player]} should not use mind control as the position is loosing either way\")\n",
        "\n",
        "\n",
        "\n",
        "chess_magic()\n"
      ],
      "metadata": {
        "id": "K1MXDYnfKqqf"
      },
      "execution_count": null,
      "outputs": []
    }
  ]
}