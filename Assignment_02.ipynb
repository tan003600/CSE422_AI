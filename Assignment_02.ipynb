{
  "nbformat": 4,
  "nbformat_minor": 0,
  "metadata": {
    "colab": {
      "provenance": [],
      "authorship_tag": "ABX9TyPLUXd+reWq1Qnr7vzrDuMq",
      "include_colab_link": true
    },
    "kernelspec": {
      "name": "python3",
      "display_name": "Python 3"
    },
    "language_info": {
      "name": "python"
    }
  },
  "cells": [
    {
      "cell_type": "markdown",
      "metadata": {
        "id": "view-in-github",
        "colab_type": "text"
      },
      "source": [
        "<a href=\"https://colab.research.google.com/github/tan003600/CSE422_AI/blob/main/22299433_Md_Tanvir_Siam_422Assi02.ipynb\" target=\"_parent\"><img src=\"https://colab.research.google.com/assets/colab-badge.svg\" alt=\"Open In Colab\"/></a>"
      ]
    },
    {
      "cell_type": "code",
      "source": [
        "history=[-1.2, 3.4, -0.8, 2.1, -2.5, 1.7, -0.3, 5.8, -1.1, 3.5]\n",
        "wallet=1000\n",
        "stop_loss= None\n",
        "take_profit= None\n",
        "trade_size= None\n",
        "\n",
        "while stop_loss is None or stop_loss not in range(1, 100):\n",
        "    stop_loss=int(input('Enter stop loss range: '))\n",
        "\n",
        "while take_profit is None or take_profit not in range(1, 101):\n",
        "    take_profit=int(input('Enter take profit range: '))\n",
        "\n",
        "while trade_size is None or trade_size not in range(1, 101):\n",
        "    trade_size=int(input('Enter trade size range: '))\n",
        "\n",
        "updated_capital=0\n",
        "\n",
        "def fitcheck():\n",
        "    demo=wallet\n",
        "\n",
        "    for i in history:\n",
        "        trade_amount=(trade_size/100)*wallet\n",
        "\n",
        "        if i<0:\n",
        "            if abs(i)>stop_loss:\n",
        "                demo-=trade_amount*(stop_loss/100)\n",
        "            else:\n",
        "                demo-=trade_amount*(abs(i)/100)\n",
        "        else:\n",
        "            if i>take_profit:\n",
        "                demo+=trade_amount*(take_profit/100)\n",
        "            else:\n",
        "                demo+=trade_amount*(i/100)\n",
        "\n",
        "    fitness_score=demo-wallet\n",
        "    return fitness_score"
      ],
      "metadata": {
        "colab": {
          "base_uri": "https://localhost:8080/"
        },
        "id": "pyYwXuKn0QIG",
        "outputId": "a9b7c28c-be43-4d9c-ac06-32bbf64c1a0e"
      },
      "execution_count": null,
      "outputs": [
        {
          "name": "stdout",
          "output_type": "stream",
          "text": [
            "Enter stop loss range: 5\n",
            "Enter take profit range: 10\n",
            "Enter trade size range: 20\n"
          ]
        }
      ]
    },
    {
      "cell_type": "code",
      "source": [
        "import random\n",
        "size=4\n",
        "gen_max=10\n",
        "mutation=0.05\n",
        "wallet=1000\n",
        "history=[-1.2, 3.4, -0.8, 2.1, -2.5, 1.7, -0.3, 5.8, -1.1, 3.5]\n",
        "\n",
        "initial_population=[\n",
        "    {\"stop_loss\": 2, \"take_profit\": 5, \"trade_size\": 20},\n",
        "    {\"stop_loss\": 3, \"take_profit\": 7, \"trade_size\": 30},\n",
        "    {\"stop_loss\": 1.5, \"take_profit\": 4, \"trade_size\": 25},\n",
        "    {\"stop_loss\": 2.5, \"take_profit\": 6, \"trade_size\": 15}\n",
        "]\n",
        "\n",
        "def generate_chromosome():\n",
        "    return {\"stop_loss\": random.uniform(1, 99),\n",
        "            \"take_profit\": random.uniform(1, 99),\n",
        "            \"trade_size\": random.uniform(1, 99)}\n",
        "\n",
        "def initialize_population():\n",
        "    new_population=[]\n",
        "    for chromosome in initial_population:\n",
        "        new_population.append(chromosome.copy())\n",
        "    return new_population\n",
        "\n",
        "def fitness(chromosome):\n",
        "    stop_loss, take_profit, trade_size = chromosome[\"stop_loss\"], chromosome[\"take_profit\"], chromosome[\"trade_size\"]\n",
        "    demo=wallet\n",
        "\n",
        "    for i in history:\n",
        "        trade_amount=(trade_size/100)*wallet\n",
        "\n",
        "        if i<0:\n",
        "            if abs(i)>stop_loss:\n",
        "                demo-=trade_amount*(stop_loss/100)\n",
        "            else:\n",
        "                demo-=trade_amount*(abs(i)/100)\n",
        "        else:\n",
        "            if i>take_profit:\n",
        "                demo+=trade_amount*(take_profit/100)\n",
        "            else:\n",
        "                demo+=trade_amount*(i/100)\n",
        "\n",
        "    return demo-wallet\n",
        "\n",
        "def mutate(chromosome):\n",
        "    if random.random()<mutation:\n",
        "        key=random.choice([\"stop_loss\", \"take_profit\", \"trade_size\"])\n",
        "        chromosome[key]=random.uniform(1, 99)\n",
        "    return chromosome\n",
        "\n",
        "def crossover(parent1, parent2):\n",
        "    child=parent1.copy()\n",
        "    key=random.choice([\"stop_loss\", \"take_profit\", \"trade_size\"])\n",
        "    child[key]=parent2[key]\n",
        "    return child\n",
        "\n",
        "population=initialize_population()\n",
        "\n",
        "for i in range(gen_max):\n",
        "    population=sorted(population, key=fitness, reverse=True)\n",
        "    next_generation=population[:2]\n",
        "\n",
        "    while len(next_generation)<size+6:\n",
        "        p1, p2=random.sample(population[:4], 2)\n",
        "        child=crossover(p1, p2)\n",
        "        next_generation.append(mutate(child))\n",
        "\n",
        "    population=next_generation[:size]\n",
        "    best_chromosome=population[0]\n",
        "\n",
        "print(\"Best Strategy:\", best_chromosome)\n",
        "print(\"Final Profit:\", fitness(best_chromosome))"
      ],
      "metadata": {
        "colab": {
          "base_uri": "https://localhost:8080/"
        },
        "id": "SlgiJqF69hjY",
        "outputId": "356fee77-dd79-4252-869a-c41c5318daa8"
      },
      "execution_count": null,
      "outputs": [
        {
          "output_type": "stream",
          "name": "stdout",
          "text": [
            "Best Strategy: {'stop_loss': 1.5, 'take_profit': 7, 'trade_size': 30}\n",
            "Final Profit: 34.80000000000018\n"
          ]
        }
      ]
    },
    {
      "cell_type": "code",
      "source": [
        "population=[\"000111000\", \"111000111\", \"101010101\", \"110110110\"]\n",
        "parent1, parent2=random.sample(population, 2)\n",
        "\n",
        "def two_point(par1, par2):\n",
        "    long=len(par1)\n",
        "\n",
        "    p1, p2=sorted(random.sample(range(1, long), 2))\n",
        "    child1=par1[:p1]+par2[p1:p2]+par1[p2:]\n",
        "    child2=par2[:p1]+par1[p1:p2]+par2[p2:]\n",
        "    return child1, child2\n",
        "\n",
        "child1, child2 = two_point(parent1, parent2)\n",
        "print(f\"Parent 1: {parent1}\")\n",
        "print(f\"Parent 2: {parent2}\")\n",
        "print(f\"Offspring 1: {child1}\")\n",
        "print(f\"Offspring 2: {child2}\")"
      ],
      "metadata": {
        "colab": {
          "base_uri": "https://localhost:8080/"
        },
        "id": "yJcXT0OvAf1T",
        "outputId": "fafe7915-eb8b-4361-d622-da4b171c306d"
      },
      "execution_count": null,
      "outputs": [
        {
          "output_type": "stream",
          "name": "stdout",
          "text": [
            "Parent 1: 111000111\n",
            "Parent 2: 110110110\n",
            "Offspring 1: 110110111\n",
            "Offspring 2: 111000110\n"
          ]
        }
      ]
    }
  ]
}
